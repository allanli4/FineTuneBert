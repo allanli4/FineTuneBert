{
 "cells": [
  {
   "cell_type": "code",
   "execution_count": 1,
   "metadata": {},
   "outputs": [],
   "source": [
    "from utils import myDataloader\n",
    "from utils import *\n",
    "from utils.myBert import myBert\n",
    "\n",
    "import importlib "
   ]
  },
  {
   "cell_type": "code",
   "execution_count": 2,
   "metadata": {},
   "outputs": [],
   "source": [
    "train_dataloader,validation_dataloader,test_dataloader = myDataloader.dataloader_bert()"
   ]
  },
  {
   "cell_type": "code",
   "execution_count": 151,
   "metadata": {},
   "outputs": [
    {
     "data": {
      "text/plain": [
       "<module 'utils.myBert' from 'c:\\\\Users\\\\GJK\\\\Desktop\\\\cse-dl\\\\final project\\\\FineTuneBert\\\\utils\\\\myBert.py'>"
      ]
     },
     "execution_count": 151,
     "metadata": {},
     "output_type": "execute_result"
    }
   ],
   "source": [
    "# importlib.reload(utils.myBert)"
   ]
  },
  {
   "cell_type": "code",
   "execution_count": 3,
   "metadata": {},
   "outputs": [
    {
     "name": "stdout",
     "output_type": "stream",
     "text": [
      "test\n"
     ]
    }
   ],
   "source": [
    "Bert= myBert(train_dataloader,validation_dataloader,test_dataloader)"
   ]
  },
  {
   "cell_type": "code",
   "execution_count": null,
   "metadata": {},
   "outputs": [],
   "source": [
    "train_hisotry,valid_history,test_results=Bert.train(epochs=20,lr=2e-5,freeze=6,early_stopping=5,decay=1)\n",
    "Bert.save_results(save_path='./results')"
   ]
  },
  {
   "cell_type": "code",
   "execution_count": 5,
   "metadata": {},
   "outputs": [
    {
     "name": "stderr",
     "output_type": "stream",
     "text": [
      "Some weights of BertForSequenceClassification were not initialized from the model checkpoint at bert-base-uncased and are newly initialized: ['classifier.weight', 'classifier.bias']\n",
      "You should probably TRAIN this model on a down-stream task to be able to use it for predictions and inference.\n",
      "batches: 100%|██████████| 1316/1316 [01:08<00:00, 19.20it/s]\n"
     ]
    },
    {
     "name": "stdout",
     "output_type": "stream",
     "text": [
      "Epoch 1/20 - train Loss: 0.2372 train Acc: 0.9232 Valid Loss: 0.1656 Valid Acc: 0.9449\n"
     ]
    },
    {
     "name": "stderr",
     "output_type": "stream",
     "text": [
      "batches: 100%|██████████| 1316/1316 [01:08<00:00, 19.17it/s]\n"
     ]
    },
    {
     "name": "stdout",
     "output_type": "stream",
     "text": [
      "Epoch 2/20 - train Loss: 0.1526 train Acc: 0.9496 Valid Loss: 0.1443 Valid Acc: 0.9511\n"
     ]
    },
    {
     "name": "stderr",
     "output_type": "stream",
     "text": [
      "batches: 100%|██████████| 1316/1316 [01:08<00:00, 19.17it/s]\n"
     ]
    },
    {
     "name": "stdout",
     "output_type": "stream",
     "text": [
      "Epoch 3/20 - train Loss: 0.1319 train Acc: 0.9556 Valid Loss: 0.1351 Valid Acc: 0.9537\n"
     ]
    },
    {
     "name": "stderr",
     "output_type": "stream",
     "text": [
      "batches: 100%|██████████| 1316/1316 [01:08<00:00, 19.22it/s]\n"
     ]
    },
    {
     "name": "stdout",
     "output_type": "stream",
     "text": [
      "Epoch 4/20 - train Loss: 0.1174 train Acc: 0.9601 Valid Loss: 0.1353 Valid Acc: 0.9540\n"
     ]
    },
    {
     "name": "stderr",
     "output_type": "stream",
     "text": [
      "batches:   5%|▍         | 64/1316 [00:03<01:06, 18.70it/s]"
     ]
    }
   ],
   "source": [
    "learning_rates=[1e-5,5e-6,2e-6,1e-6]\n",
    "for lr in learning_rates:\n",
    "    Bert.train(epochs=20,lr=lr,freeze=6,early_stopping=5,decay=1)\n",
    "    Bert.save_results(save_path='./results')"
   ]
  }
 ],
 "metadata": {
  "kernelspec": {
   "display_name": "base",
   "language": "python",
   "name": "python3"
  },
  "language_info": {
   "codemirror_mode": {
    "name": "ipython",
    "version": 3
   },
   "file_extension": ".py",
   "mimetype": "text/x-python",
   "name": "python",
   "nbconvert_exporter": "python",
   "pygments_lexer": "ipython3",
   "version": "3.9.16"
  }
 },
 "nbformat": 4,
 "nbformat_minor": 2
}
